{
 "cells": [
  {
   "cell_type": "markdown",
   "metadata": {},
   "source": [
    "### Aufgabenstellung \n",
    "\n",
    "Finden Sie den optimalen Winkel, für der beim Schlagen eines Floorballes die maximale Weite erreicht wird. Dabei wird angenommen, der Luftwiderstand sei proportional zum Quadrat der Geschwindigkeit."
   ]
  },
  {
   "cell_type": "code",
   "execution_count": null,
   "metadata": {},
   "outputs": [],
   "source": []
  }
 ],
 "metadata": {
  "language_info": {
   "name": "python"
  }
 },
 "nbformat": 4,
 "nbformat_minor": 2
}
